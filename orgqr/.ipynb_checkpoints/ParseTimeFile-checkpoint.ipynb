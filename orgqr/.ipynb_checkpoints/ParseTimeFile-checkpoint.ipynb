{
 "cells": [
  {
   "cell_type": "code",
   "execution_count": 1,
   "id": "ef88d596-6502-4518-ae0b-06647bc8574f",
   "metadata": {},
   "outputs": [],
   "source": [
    "# Imports\n",
    "import matplotlib.pyplot as plt\n",
    "import numpy as np"
   ]
  },
  {
   "cell_type": "code",
   "execution_count": 6,
   "id": "0dab8d41-0e7c-45a7-929b-3269d5b7cbe0",
   "metadata": {},
   "outputs": [],
   "source": [
    "def createGraph(refTimeVec, refGflopVec, myTimeVec, myGflopVec, m):\n",
    "    title = \"AOCL vs MY DORGQR m = {}, n = {}\".format(m,n)\n",
    "    #kVec = np.array([10])\n",
    "    #kVec = np.append(kVec,np.linspace(25,n, num=int((n-25)/25+1)))\n",
    "    kVec = np.linspace(10,n, num=int((230-10)/10+1))\n",
    "    titleTime = \"Execution time {}\".format(title)\n",
    "    fig,ax=plt.subplots()\n",
    "    fig.suptitle(titleTime)\n",
    "    ax.set_xlabel(\"Number of reflectors (k)\")\n",
    "    ax.set_ylabel(\"Execution time (in seconds)\")\n",
    "    try:\n",
    "        ax.plot(kVec, refTimeVec, label=\"AOCL DORGQR\")\n",
    "        ax.plot(kVec, myTimeVec, label=\"MY DORGQR IMPLEMENTATION\")\n",
    "    except:\n",
    "        print(kVec)\n",
    "        print(refTimeVec)\n",
    "        print(myTimeVec)\n",
    "    ax.legend()\n",
    "    plt.show()\n",
    "    fig.savefig(\"version1_bak_m={}_n={}.png\".format(m,n))\n",
    "    return"
   ]
  },
  {
   "cell_type": "code",
   "execution_count": 8,
   "id": "3c28c72b-040f-438e-9b34-5cf52d67d8a9",
   "metadata": {},
   "outputs": [
    {
     "name": "stderr",
     "output_type": "stream",
     "text": [
      "No artists with labels found to put in legend.  Note that artists whose label start with an underscore are ignored when legend() is called with no argument.\n"
     ]
    },
    {
     "name": "stdout",
     "output_type": "stream",
     "text": [
      "[ 50.         113.33333333 176.66666667 240.        ]\n",
      "[0.010455846786, 0.045978069305, 0.10809516907, 0.1451420784, 0.18613505363, 0.24957180023, 0.30609893799, 0.35133600235, 0.41764593124, 0.4911210537, 0.50120711327, 0.56758403778, 0.65170502663, 0.69765782356, 0.76866006851, 0.85978603363, 0.91632318497, 1.046284914, 1.1360809803, 1.2499480247, 1.312543869, 1.4233689308, 1.4574148655, 1.5246629715]\n",
      "[0.01026892662, 0.044721841812, 0.10720896721, 0.17385911942, 0.22021698952, 0.29927015305, 0.36195707321, 0.41719293594, 0.49218893051, 0.58893489838, 0.573127985, 0.66499304771, 0.76883602142, 0.81315302849, 0.85482597351, 0.99683499336, 1.1003241539, 1.2003509998, 1.2524800301, 1.4461898804, 1.4750130177, 1.5951519012, 1.5952620506]\n"
     ]
    },
    {
     "data": {
      "image/png": "[encoded data removed]",
      "text/plain": [
       "<Figure size 640x480 with 1 Axes>"
      ]
     },
     "metadata": {},
     "output_type": "display_data"
    }
   ],
   "source": [
    "# This notebook/script is responsible for parsing the times_v*.txt files.\n",
    "\n",
    "#version1File = open(\"times_v1.txt\")\n",
    "tmpFile = open(\"times_v1.txt\")\n",
    "lines = tmpFile.readlines()\n",
    "typeMatrix = \"\"\n",
    "refTimeVec = []\n",
    "refGflopVec= []\n",
    "myTimeVec = []\n",
    "myGflopVec= []\n",
    "inRef = True\n",
    "appendToList = True\n",
    "oldM = 0\n",
    "for line in lines:\n",
    "    #print(line)\n",
    "    # Get rid of trailing newline character if it exists\n",
    "    if(line[-1] == '\\n'):\n",
    "        line = line[0:-1]\n",
    "    # The first line will be a header line. First is \"Tall and skinny matrices\" If we are at this line, we store it as the typeMatrix variable\n",
    "    if(line == \"Tall and skinny matrices\" or line == \"Square matrices\"):\n",
    "        typeMatrix = line\n",
    "        continue\n",
    "    # Otherwise we check if we have a line starting with m=...\n",
    "    # If this is the case, then we grab the m,n, and k\n",
    "    if(line[1]==\"=\"):\n",
    "        lineVec = line.split()\n",
    "        tmp = int(lineVec[0][2:])\n",
    "        if(oldM == 0):\n",
    "            oldM = tmp\n",
    "        if(int(oldM) != tmp):\n",
    "            # We need to plot\n",
    "            createGraph(refTimeVec, refGflopVec, myTimeVec, myGflopVec, m, n)\n",
    "            refTimeVec = []\n",
    "            refGflopVec= []\n",
    "            myTimeVec = []\n",
    "            myGflopVec= []\n",
    "            oldM = tmp\n",
    "        m = tmp\n",
    "        n = int(lineVec[1][2:])\n",
    "        k = int(lineVec[2][2:])\n",
    "        continue\n",
    "    # We have 2 more headers to worry about. This will help partition our output into the correct vector\n",
    "    if(line[0]=='A'):\n",
    "        inRef=True\n",
    "        appendToList=True\n",
    "        continue\n",
    "    elif(line[1]==\"y\"):\n",
    "        inRef=False\n",
    "        appendToList=True\n",
    "        continue\n",
    "    # Split across the : symbol to grab the executionTime and GFlops/sec\n",
    "    lineVec = line.split(\":\")\n",
    "    # lineVec[0] is execution time\n",
    "    # lineVec[1] is GFlops/sec\n",
    "    if(appendToList):\n",
    "        # This means it's time to add to the end of the list regardless of what the value is\n",
    "        appendToList=False\n",
    "        if(inRef):\n",
    "            refTimeVec.append(float(lineVec[0]))\n",
    "            refGflopVec.append(float(lineVec[1]))\n",
    "        else:\n",
    "            myTimeVec.append(float(lineVec[0]))\n",
    "            myGflopVec.append(float(lineVec[1]))\n",
    "    else:\n",
    "        # This means that we already have something in the last slot associated with this combination of m,n, and k\n",
    "        # So, we check if the new time is smaller than the existing value. If so, replace our stored variables\n",
    "        tmp = float(lineVec[0])\n",
    "        if(inRef):\n",
    "            if(tmp < refTimeVec[-1]):\n",
    "                refTimeVec[-1] = tmp\n",
    "                refGflopVec[-1] = float(lineVec[1])\n",
    "        else:\n",
    "            if(tmp < myTimeVec[-1]):\n",
    "                myTimeVec[-1] = tmp\n",
    "                myGflopVec[-1] = float(lineVec[1])\n",
    "createGraph(refTimeVec, refGflopVec, myTimeVec, myGflopVec, m, n)\n",
    "tmpFile.close()"
   ]
  },
  {
   "cell_type": "code",
   "execution_count": null,
   "id": "2a3c8226-e651-4416-bc13-5df4b42ffd76",
   "metadata": {},
   "outputs": [],
   "source": []
  }
 ],
 "metadata": {
  "kernelspec": {
   "display_name": "Python 3 (ipykernel)",
   "language": "python",
   "name": "python3"
  },
  "language_info": {
   "codemirror_mode": {
    "name": "ipython",
    "version": 3
   },
   "file_extension": ".py",
   "mimetype": "text/x-python",
   "name": "python",
   "nbconvert_exporter": "python",
   "pygments_lexer": "ipython3",
   "version": "3.11.6"
  }
 },
 "nbformat": 4,
 "nbformat_minor": 5
}
